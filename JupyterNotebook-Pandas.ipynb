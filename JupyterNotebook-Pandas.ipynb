{
 "cells": [
  {
   "cell_type": "code",
   "execution_count": null,
   "metadata": {},
   "outputs": [],
   "source": [
    "import pandas as pd\n",
    "import matplotlib.pyplot as plt\n",
    "import seaborn as sns\n",
    "import numpy as np\n"
   ]
  },
  {
   "cell_type": "markdown",
   "metadata": {},
   "source": [
    "# Basic Variable Assignments, Operations and Plots"
   ]
  },
  {
   "cell_type": "code",
   "execution_count": null,
   "metadata": {},
   "outputs": [],
   "source": [
    "msg = \"Hello Worlde\""
   ]
  },
  {
   "cell_type": "code",
   "execution_count": null,
   "metadata": {},
   "outputs": [],
   "source": [
    "msg = 2"
   ]
  },
  {
   "cell_type": "code",
   "execution_count": null,
   "metadata": {},
   "outputs": [],
   "source": [
    "print(msg)"
   ]
  },
  {
   "cell_type": "code",
   "execution_count": null,
   "metadata": {},
   "outputs": [],
   "source": [
    "x = np.linspace(0, 20, 100) # range 0..20, with datapoints\n",
    "plt.plot(x, np.sin(x))\n",
    "plt.show()\n"
   ]
  },
  {
   "cell_type": "code",
   "execution_count": null,
   "metadata": {},
   "outputs": [],
   "source": [
    "n = 200\n",
    "fibonacci = np.ones((n))\n",
    "\n",
    "#fibonacci[0] = 0\n",
    "#fibonacci[1] = 1\n"
   ]
  },
  {
   "cell_type": "code",
   "execution_count": null,
   "metadata": {},
   "outputs": [],
   "source": [
    "sns.set(style=\"darkgrid\")"
   ]
  },
  {
   "cell_type": "markdown",
   "metadata": {},
   "source": [
    "# Dataframe and Basic Access"
   ]
  },
  {
   "cell_type": "code",
   "execution_count": 41,
   "metadata": {},
   "outputs": [
    {
     "data": {
      "text/html": "<div>\n<style scoped>\n    .dataframe tbody tr th:only-of-type {\n        vertical-align: middle;\n    }\n\n    .dataframe tbody tr th {\n        vertical-align: top;\n    }\n\n    .dataframe thead th {\n        text-align: right;\n    }\n</style>\n<table border=\"1\" class=\"dataframe\">\n  <thead>\n    <tr style=\"text-align: right;\">\n      <th></th>\n      <th>#</th>\n      <th>Name</th>\n      <th>Type 1</th>\n      <th>Type 2</th>\n      <th>HP</th>\n      <th>Attack</th>\n      <th>Defense</th>\n      <th>Sp. Atk</th>\n      <th>Sp. Def</th>\n      <th>Speed</th>\n      <th>Generation</th>\n      <th>Legendary</th>\n    </tr>\n  </thead>\n  <tbody>\n    <tr>\n      <th>0</th>\n      <td>1</td>\n      <td>Bulbasaur</td>\n      <td>Grass</td>\n      <td>Poison</td>\n      <td>45</td>\n      <td>49</td>\n      <td>49</td>\n      <td>65</td>\n      <td>65</td>\n      <td>45</td>\n      <td>1</td>\n      <td>False</td>\n    </tr>\n    <tr>\n      <th>1</th>\n      <td>2</td>\n      <td>Ivysaur</td>\n      <td>Grass</td>\n      <td>Poison</td>\n      <td>60</td>\n      <td>62</td>\n      <td>63</td>\n      <td>80</td>\n      <td>80</td>\n      <td>60</td>\n      <td>1</td>\n      <td>False</td>\n    </tr>\n    <tr>\n      <th>2</th>\n      <td>3</td>\n      <td>Venusaur</td>\n      <td>Grass</td>\n      <td>Poison</td>\n      <td>80</td>\n      <td>82</td>\n      <td>83</td>\n      <td>100</td>\n      <td>100</td>\n      <td>80</td>\n      <td>1</td>\n      <td>False</td>\n    </tr>\n    <tr>\n      <th>3</th>\n      <td>3</td>\n      <td>VenusaurMega Venusaur</td>\n      <td>Grass</td>\n      <td>Poison</td>\n      <td>80</td>\n      <td>100</td>\n      <td>123</td>\n      <td>122</td>\n      <td>120</td>\n      <td>80</td>\n      <td>1</td>\n      <td>False</td>\n    </tr>\n    <tr>\n      <th>4</th>\n      <td>4</td>\n      <td>Charmander</td>\n      <td>Fire</td>\n      <td>NaN</td>\n      <td>39</td>\n      <td>52</td>\n      <td>43</td>\n      <td>60</td>\n      <td>50</td>\n      <td>65</td>\n      <td>1</td>\n      <td>False</td>\n    </tr>\n  </tbody>\n</table>\n</div>",
      "text/plain": "   #                   Name Type 1  Type 2  HP  Attack  Defense  Sp. Atk  \\\n0  1              Bulbasaur  Grass  Poison  45      49       49       65   \n1  2                Ivysaur  Grass  Poison  60      62       63       80   \n2  3               Venusaur  Grass  Poison  80      82       83      100   \n3  3  VenusaurMega Venusaur  Grass  Poison  80     100      123      122   \n4  4             Charmander   Fire     NaN  39      52       43       60   \n\n   Sp. Def  Speed  Generation  Legendary  \n0       65     45           1      False  \n1       80     60           1      False  \n2      100     80           1      False  \n3      120     80           1      False  \n4       50     65           1      False  "
     },
     "execution_count": 41,
     "metadata": {},
     "output_type": "execute_result"
    }
   ],
   "source": [
    "df = pd.read_csv('pokemon_data.csv')\n",
    "#df = pd.read_csv('fortune500.csv')  # pd.read_excel('file')\n",
    "#print(df.head(3))\n",
    "#print(df.tail(3))\n",
    "df.columns #print column names\n",
    "# df['Speed'] #get specific columns df.speed is also possible\n",
    "\n",
    "#grab specific columns\n",
    "#df = df[['HP', 'Defense']]\n",
    "\n",
    "# index specific columns\n",
    "#col_list = list(df.columns.values)\n",
    "# df = df[col_list[0:4] + col_list[-3:-1]]\n",
    "#df = df[col_list[0:4] + [col_list[-1]]] #Since the last column-name is only a string, it has to be surrounded by [] to make it a list\n",
    "\n",
    "# Save/write back to csv\n",
    "# df.to_csv('modified.csv') #df.to_csv('modified.csv', index=False) \n",
    "\n",
    "df.head(5)\n",
    "\n",
    "\n"
   ]
  },
  {
   "cell_type": "markdown",
   "metadata": {},
   "source": [
    "# Advanced Dataframe Access"
   ]
  },
  {
   "cell_type": "code",
   "execution_count": 95,
   "metadata": {},
   "outputs": [
    {
     "name": "stdout",
     "output_type": "stream",
     "text": [
      "Octillery     1\n",
      "Poochyena     1\n",
      "Cofagrigus    1\n",
      "Miltank       1\n",
      "Feebas        1\n",
      "             ..\n",
      "Espurr        1\n",
      "Fearow        1\n",
      "Purrloin      1\n",
      "Nuzleaf       1\n",
      "Jumpluff      1\n",
      "Name: Name, Length: 800, dtype: int64\n"
     ]
    },
    {
     "data": {
      "text/html": "<div>\n<style scoped>\n    .dataframe tbody tr th:only-of-type {\n        vertical-align: middle;\n    }\n\n    .dataframe tbody tr th {\n        vertical-align: top;\n    }\n\n    .dataframe thead th {\n        text-align: right;\n    }\n</style>\n<table border=\"1\" class=\"dataframe\">\n  <thead>\n    <tr style=\"text-align: right;\">\n      <th></th>\n      <th>#</th>\n      <th>Name</th>\n      <th>Type 1</th>\n      <th>Type 2</th>\n      <th>HP</th>\n      <th>Attack</th>\n      <th>Defense</th>\n      <th>Sp. Atk</th>\n      <th>Sp. Def</th>\n      <th>Speed</th>\n      <th>Generation</th>\n      <th>Legendary</th>\n    </tr>\n  </thead>\n  <tbody>\n    <tr>\n      <th>140</th>\n      <td>130</td>\n      <td>Gyarados</td>\n      <td>Water</td>\n      <td>Flying</td>\n      <td>95</td>\n      <td>125</td>\n      <td>79</td>\n      <td>60</td>\n      <td>100</td>\n      <td>81</td>\n      <td>1</td>\n      <td>False</td>\n    </tr>\n    <tr>\n      <th>244</th>\n      <td>226</td>\n      <td>Mantine</td>\n      <td>Water</td>\n      <td>Flying</td>\n      <td>65</td>\n      <td>40</td>\n      <td>70</td>\n      <td>80</td>\n      <td>140</td>\n      <td>70</td>\n      <td>2</td>\n      <td>False</td>\n    </tr>\n    <tr>\n      <th>301</th>\n      <td>278</td>\n      <td>Wingull</td>\n      <td>Water</td>\n      <td>Flying</td>\n      <td>40</td>\n      <td>30</td>\n      <td>30</td>\n      <td>55</td>\n      <td>30</td>\n      <td>85</td>\n      <td>3</td>\n      <td>False</td>\n    </tr>\n    <tr>\n      <th>302</th>\n      <td>279</td>\n      <td>Pelipper</td>\n      <td>Water</td>\n      <td>Flying</td>\n      <td>60</td>\n      <td>50</td>\n      <td>100</td>\n      <td>85</td>\n      <td>70</td>\n      <td>65</td>\n      <td>3</td>\n      <td>False</td>\n    </tr>\n    <tr>\n      <th>508</th>\n      <td>458</td>\n      <td>Mantyke</td>\n      <td>Water</td>\n      <td>Flying</td>\n      <td>45</td>\n      <td>20</td>\n      <td>50</td>\n      <td>60</td>\n      <td>120</td>\n      <td>50</td>\n      <td>4</td>\n      <td>False</td>\n    </tr>\n  </tbody>\n</table>\n</div>",
      "text/plain": "       #      Name Type 1  Type 2  HP  Attack  Defense  Sp. Atk  Sp. Def  \\\n140  130  Gyarados  Water  Flying  95     125       79       60      100   \n244  226   Mantine  Water  Flying  65      40       70       80      140   \n301  278   Wingull  Water  Flying  40      30       30       55       30   \n302  279  Pelipper  Water  Flying  60      50      100       85       70   \n508  458   Mantyke  Water  Flying  45      20       50       60      120   \n\n     Speed  Generation  Legendary  \n140     81           1      False  \n244     70           2      False  \n301     85           3      False  \n302     65           3      False  \n508     50           4      False  "
     },
     "execution_count": 95,
     "metadata": {},
     "output_type": "execute_result"
    }
   ],
   "source": [
    "### iloc\n",
    "#df.iloc[1:2] #print first rows\n",
    "#df.iloc[2,1] #get value of a specic location\n",
    "\n",
    "#iterations\n",
    "#for index, row in df.iloc[4:5].iterrows():\n",
    "#    print(index)\n",
    "\n",
    "# loc\n",
    "#df.loc[df['Type 1']==\"Fire\"] #get filter based on column values #combine more columns with logical operator & or | and parenthesis\n",
    "\n",
    "# Filtering and advanced Conditions\n",
    "#newdf = df.loc[df['HP'] > 10]\n",
    "#newdf = df.loc[(df['Type 1'] == 'Grass') & (df['Type 2'] == 'Poison')]\n",
    "#newdf.iloc[0,]\n",
    "#newdf.head(5)\n",
    "\n",
    "\n",
    "\n",
    "\n",
    "# Very Practical: Get count of values for a column\n",
    "#print(df.columns)\n",
    "print(df['Name'].value_counts())\n",
    "#print(df['Type 2'].value_counts())\n",
    "#df.describe() #basic statistical evaluations on numerical columns\n",
    "new2df.head(5)"
   ]
  },
  {
   "cell_type": "code",
   "execution_count": 106,
   "metadata": {},
   "outputs": [
    {
     "data": {
      "text/html": "<div>\n<style scoped>\n    .dataframe tbody tr th:only-of-type {\n        vertical-align: middle;\n    }\n\n    .dataframe tbody tr th {\n        vertical-align: top;\n    }\n\n    .dataframe thead th {\n        text-align: right;\n    }\n</style>\n<table border=\"1\" class=\"dataframe\">\n  <thead>\n    <tr style=\"text-align: right;\">\n      <th></th>\n      <th>#</th>\n      <th>Name</th>\n      <th>Type 1</th>\n      <th>Type 2</th>\n      <th>HP</th>\n      <th>Attack</th>\n      <th>Defense</th>\n      <th>Sp. Atk</th>\n      <th>Sp. Def</th>\n      <th>Speed</th>\n      <th>Generation</th>\n      <th>Legendary</th>\n    </tr>\n  </thead>\n  <tbody>\n    <tr>\n      <th>510</th>\n      <td>460</td>\n      <td>Abomasnow</td>\n      <td>Grass</td>\n      <td>Ice</td>\n      <td>90</td>\n      <td>92</td>\n      <td>75</td>\n      <td>92</td>\n      <td>85</td>\n      <td>60</td>\n      <td>4</td>\n      <td>False</td>\n    </tr>\n    <tr>\n      <th>511</th>\n      <td>460</td>\n      <td>AbomasnowMega Abomasnow</td>\n      <td>Grass</td>\n      <td>Ice</td>\n      <td>90</td>\n      <td>132</td>\n      <td>105</td>\n      <td>132</td>\n      <td>105</td>\n      <td>30</td>\n      <td>4</td>\n      <td>False</td>\n    </tr>\n    <tr>\n      <th>68</th>\n      <td>63</td>\n      <td>Abra</td>\n      <td>Psychic</td>\n      <td>NaN</td>\n      <td>25</td>\n      <td>20</td>\n      <td>15</td>\n      <td>105</td>\n      <td>55</td>\n      <td>90</td>\n      <td>1</td>\n      <td>False</td>\n    </tr>\n    <tr>\n      <th>392</th>\n      <td>359</td>\n      <td>Absol</td>\n      <td>Dark</td>\n      <td>NaN</td>\n      <td>65</td>\n      <td>130</td>\n      <td>60</td>\n      <td>75</td>\n      <td>60</td>\n      <td>75</td>\n      <td>3</td>\n      <td>False</td>\n    </tr>\n    <tr>\n      <th>393</th>\n      <td>359</td>\n      <td>AbsolMega Absol</td>\n      <td>Dark</td>\n      <td>NaN</td>\n      <td>65</td>\n      <td>150</td>\n      <td>60</td>\n      <td>115</td>\n      <td>60</td>\n      <td>115</td>\n      <td>3</td>\n      <td>False</td>\n    </tr>\n    <tr>\n      <th>...</th>\n      <td>...</td>\n      <td>...</td>\n      <td>...</td>\n      <td>...</td>\n      <td>...</td>\n      <td>...</td>\n      <td>...</td>\n      <td>...</td>\n      <td>...</td>\n      <td>...</td>\n      <td>...</td>\n      <td>...</td>\n    </tr>\n    <tr>\n      <th>632</th>\n      <td>571</td>\n      <td>Zoroark</td>\n      <td>Dark</td>\n      <td>NaN</td>\n      <td>60</td>\n      <td>105</td>\n      <td>60</td>\n      <td>120</td>\n      <td>60</td>\n      <td>105</td>\n      <td>5</td>\n      <td>False</td>\n    </tr>\n    <tr>\n      <th>631</th>\n      <td>570</td>\n      <td>Zorua</td>\n      <td>Dark</td>\n      <td>NaN</td>\n      <td>40</td>\n      <td>65</td>\n      <td>40</td>\n      <td>80</td>\n      <td>40</td>\n      <td>65</td>\n      <td>5</td>\n      <td>False</td>\n    </tr>\n    <tr>\n      <th>46</th>\n      <td>41</td>\n      <td>Zubat</td>\n      <td>Poison</td>\n      <td>Flying</td>\n      <td>40</td>\n      <td>45</td>\n      <td>35</td>\n      <td>30</td>\n      <td>40</td>\n      <td>55</td>\n      <td>1</td>\n      <td>False</td>\n    </tr>\n    <tr>\n      <th>695</th>\n      <td>634</td>\n      <td>Zweilous</td>\n      <td>Dark</td>\n      <td>Dragon</td>\n      <td>72</td>\n      <td>85</td>\n      <td>70</td>\n      <td>65</td>\n      <td>70</td>\n      <td>58</td>\n      <td>5</td>\n      <td>False</td>\n    </tr>\n    <tr>\n      <th>794</th>\n      <td>718</td>\n      <td>Zygarde50% Forme</td>\n      <td>Dragon</td>\n      <td>Ground</td>\n      <td>108</td>\n      <td>100</td>\n      <td>121</td>\n      <td>81</td>\n      <td>95</td>\n      <td>95</td>\n      <td>6</td>\n      <td>True</td>\n    </tr>\n  </tbody>\n</table>\n<p>800 rows × 12 columns</p>\n</div>",
      "text/plain": "       #                     Name   Type 1  Type 2   HP  Attack  Defense  \\\n510  460                Abomasnow    Grass     Ice   90      92       75   \n511  460  AbomasnowMega Abomasnow    Grass     Ice   90     132      105   \n68    63                     Abra  Psychic     NaN   25      20       15   \n392  359                    Absol     Dark     NaN   65     130       60   \n393  359          AbsolMega Absol     Dark     NaN   65     150       60   \n..   ...                      ...      ...     ...  ...     ...      ...   \n632  571                  Zoroark     Dark     NaN   60     105       60   \n631  570                    Zorua     Dark     NaN   40      65       40   \n46    41                    Zubat   Poison  Flying   40      45       35   \n695  634                 Zweilous     Dark  Dragon   72      85       70   \n794  718         Zygarde50% Forme   Dragon  Ground  108     100      121   \n\n     Sp. Atk  Sp. Def  Speed  Generation  Legendary  \n510       92       85     60           4      False  \n511      132      105     30           4      False  \n68       105       55     90           1      False  \n392       75       60     75           3      False  \n393      115       60    115           3      False  \n..       ...      ...    ...         ...        ...  \n632      120       60    105           5      False  \n631       80       40     65           5      False  \n46        30       40     55           1      False  \n695       65       70     58           5      False  \n794       81       95     95           6       True  \n\n[800 rows x 12 columns]"
     },
     "execution_count": 106,
     "metadata": {},
     "output_type": "execute_result"
    }
   ],
   "source": [
    "#Filtering with contained in search\n",
    "#newdf2 = df.loc[df['Name'].str.contains(\"Mega\")]\n",
    "# complement with tilde symbol: newdf2 = df.loc[~(df['Name'].str.contains(\"Mega\"))]\n",
    "#working with regex\n",
    "#import re\n",
    "#newdf2 = df.loc[df['Name'].str.contains(\"^po[ab]*\", flags=re.I, regex=True)]\n",
    "#newdf2.head(5)\n",
    "\n",
    "#df.sort_values('Name', ascending = False)\n",
    "#df.sort_values(['Name','Attack'], ascending = [1,0]) #Sorting for two columns, [1,0] means first columns ascending, second descending\n",
    "\n",
    "#df.sort_values(['Name','HP'], ascending ='False')\n",
    "#df.head(5)\n"
   ]
  },
  {
   "cell_type": "code",
   "execution_count": null,
   "metadata": {},
   "outputs": [],
   "source": [
    "#Changes/Replacements\n",
    "#df.loc[df['Type 1'] == 'Fire', 'Type 1'] = 'Flamer' #'Type 1\" needs to be entered a second time to specify the columns that need to changed\n",
    "\n",
    "#Changes: One Condition based on one columns but change in other columns:\n",
    "#df.loc[df['Type 1'] == 'Fire', 'Legendary'] = 'True'\n",
    "#df\n",
    "\n",
    "#aggregations\n",
    "#df['Total'] = df['HP'] + df['Attack'] + df['Attack'] # get new colums that calculates the sum of other column values\n",
    "#df2 = df.drop(columns=['Total']) #drop columns\n",
    "#df.groupby(['Type 1']).mean().sort_values('Defense', ascending=False)\n",
    "#df\n",
    "#df.groupby(['Type 1', 'Type 2']).mean()['Attack'] #'Name' is only a column-to-show filter\n",
    "\n",
    "# df['Total'] = df.iloc[:, 4:6].sum(axis=1) #add column values by indices\n",
    "\n",
    "#dropping columns/rows\n",
    "df2 = df.head(3)\n",
    "#df2.drop(columns=['HP','Attack'])\n",
    "#Removing by condition and using the tilde\n",
    "df3 = df2[~(df2['Name']=='Ivysaur')] #Remove all rows that contain Icysauer in column 'Name'\n",
    "df3\n",
    "\n",
    "\n"
   ]
  },
  {
   "cell_type": "markdown",
   "metadata": {},
   "source": [
    "# Working with large amounts of data"
   ]
  },
  {
   "cell_type": "code",
   "execution_count": null,
   "metadata": {},
   "outputs": [],
   "source": [
    "#Create empty dataframe with columns of existing one\n",
    "new_df = pd.DataFrame(columns=df.columns)\n",
    "#Imagine your csv is too large, than chunking is useful\n",
    "for dfchunk in pd.read_csv('pokemon_data.csv', chunksize=400): #now a chunk is presented as a element of an iterable list\n",
    "  temp_result = dfchunk.groupby(['Type 1']).count()\n",
    "  print('hello')\n",
    "  new_df = pd.concat([new_df, temp_result])\n"
   ]
  },
  {
   "cell_type": "code",
   "execution_count": null,
   "metadata": {},
   "outputs": [],
   "source": []
  },
  {
   "cell_type": "code",
   "execution_count": null,
   "metadata": {},
   "outputs": [],
   "source": []
  },
  {
   "cell_type": "code",
   "execution_count": null,
   "metadata": {},
   "outputs": [],
   "source": []
  },
  {
   "cell_type": "code",
   "execution_count": null,
   "metadata": {},
   "outputs": [],
   "source": []
  },
  {
   "cell_type": "code",
   "execution_count": null,
   "metadata": {},
   "outputs": [],
   "source": []
  },
  {
   "cell_type": "code",
   "execution_count": null,
   "metadata": {},
   "outputs": [],
   "source": []
  },
  {
   "cell_type": "code",
   "execution_count": null,
   "metadata": {},
   "outputs": [],
   "source": []
  },
  {
   "cell_type": "code",
   "execution_count": null,
   "metadata": {},
   "outputs": [],
   "source": []
  },
  {
   "cell_type": "code",
   "execution_count": null,
   "metadata": {},
   "outputs": [],
   "source": []
  },
  {
   "cell_type": "code",
   "execution_count": null,
   "metadata": {},
   "outputs": [],
   "source": []
  },
  {
   "cell_type": "code",
   "execution_count": null,
   "metadata": {},
   "outputs": [],
   "source": []
  },
  {
   "cell_type": "code",
   "execution_count": null,
   "metadata": {},
   "outputs": [],
   "source": []
  },
  {
   "cell_type": "code",
   "execution_count": null,
   "metadata": {},
   "outputs": [],
   "source": []
  },
  {
   "cell_type": "code",
   "execution_count": null,
   "metadata": {},
   "outputs": [],
   "source": []
  },
  {
   "cell_type": "code",
   "execution_count": null,
   "metadata": {},
   "outputs": [],
   "source": []
  },
  {
   "cell_type": "code",
   "execution_count": null,
   "metadata": {},
   "outputs": [],
   "source": []
  },
  {
   "cell_type": "code",
   "execution_count": null,
   "metadata": {},
   "outputs": [],
   "source": []
  },
  {
   "cell_type": "code",
   "execution_count": null,
   "metadata": {},
   "outputs": [],
   "source": []
  },
  {
   "cell_type": "code",
   "execution_count": null,
   "metadata": {},
   "outputs": [],
   "source": []
  },
  {
   "cell_type": "code",
   "execution_count": null,
   "metadata": {},
   "outputs": [],
   "source": []
  },
  {
   "cell_type": "code",
   "execution_count": null,
   "metadata": {},
   "outputs": [],
   "source": []
  },
  {
   "cell_type": "code",
   "execution_count": null,
   "metadata": {},
   "outputs": [],
   "source": []
  },
  {
   "cell_type": "code",
   "execution_count": null,
   "metadata": {},
   "outputs": [],
   "source": []
  },
  {
   "cell_type": "code",
   "execution_count": null,
   "metadata": {},
   "outputs": [],
   "source": []
  },
  {
   "cell_type": "code",
   "execution_count": null,
   "metadata": {},
   "outputs": [],
   "source": []
  },
  {
   "cell_type": "code",
   "execution_count": null,
   "metadata": {},
   "outputs": [],
   "source": []
  },
  {
   "cell_type": "code",
   "execution_count": null,
   "metadata": {},
   "outputs": [],
   "source": []
  },
  {
   "cell_type": "code",
   "execution_count": null,
   "metadata": {},
   "outputs": [],
   "source": []
  },
  {
   "cell_type": "code",
   "execution_count": null,
   "metadata": {},
   "outputs": [],
   "source": []
  },
  {
   "cell_type": "code",
   "execution_count": null,
   "metadata": {},
   "outputs": [],
   "source": []
  },
  {
   "cell_type": "code",
   "execution_count": null,
   "metadata": {},
   "outputs": [],
   "source": []
  },
  {
   "cell_type": "code",
   "execution_count": null,
   "metadata": {},
   "outputs": [],
   "source": []
  },
  {
   "cell_type": "code",
   "execution_count": null,
   "metadata": {},
   "outputs": [],
   "source": []
  },
  {
   "cell_type": "code",
   "execution_count": null,
   "metadata": {},
   "outputs": [],
   "source": []
  },
  {
   "cell_type": "code",
   "execution_count": null,
   "metadata": {},
   "outputs": [],
   "source": []
  },
  {
   "cell_type": "code",
   "execution_count": null,
   "metadata": {},
   "outputs": [],
   "source": []
  },
  {
   "cell_type": "code",
   "execution_count": null,
   "metadata": {},
   "outputs": [],
   "source": []
  },
  {
   "cell_type": "code",
   "execution_count": null,
   "metadata": {},
   "outputs": [],
   "source": []
  },
  {
   "cell_type": "code",
   "execution_count": null,
   "metadata": {},
   "outputs": [],
   "source": []
  },
  {
   "cell_type": "code",
   "execution_count": null,
   "metadata": {},
   "outputs": [],
   "source": []
  },
  {
   "cell_type": "code",
   "execution_count": null,
   "metadata": {},
   "outputs": [],
   "source": []
  },
  {
   "cell_type": "code",
   "execution_count": null,
   "metadata": {},
   "outputs": [],
   "source": []
  },
  {
   "cell_type": "code",
   "execution_count": null,
   "metadata": {},
   "outputs": [],
   "source": []
  },
  {
   "cell_type": "code",
   "execution_count": null,
   "metadata": {},
   "outputs": [],
   "source": []
  },
  {
   "cell_type": "code",
   "execution_count": null,
   "metadata": {},
   "outputs": [],
   "source": []
  },
  {
   "cell_type": "code",
   "execution_count": null,
   "metadata": {},
   "outputs": [],
   "source": []
  },
  {
   "cell_type": "code",
   "execution_count": null,
   "metadata": {},
   "outputs": [],
   "source": []
  },
  {
   "cell_type": "code",
   "execution_count": null,
   "metadata": {},
   "outputs": [],
   "source": []
  },
  {
   "cell_type": "code",
   "execution_count": null,
   "metadata": {},
   "outputs": [],
   "source": []
  },
  {
   "cell_type": "code",
   "execution_count": null,
   "metadata": {},
   "outputs": [],
   "source": []
  },
  {
   "cell_type": "code",
   "execution_count": null,
   "metadata": {},
   "outputs": [],
   "source": []
  },
  {
   "cell_type": "code",
   "execution_count": null,
   "metadata": {},
   "outputs": [],
   "source": []
  },
  {
   "cell_type": "code",
   "execution_count": null,
   "metadata": {},
   "outputs": [],
   "source": []
  },
  {
   "cell_type": "code",
   "execution_count": null,
   "metadata": {},
   "outputs": [],
   "source": []
  },
  {
   "cell_type": "code",
   "execution_count": null,
   "metadata": {},
   "outputs": [],
   "source": []
  },
  {
   "cell_type": "code",
   "execution_count": null,
   "metadata": {},
   "outputs": [],
   "source": []
  },
  {
   "cell_type": "code",
   "execution_count": null,
   "metadata": {},
   "outputs": [],
   "source": []
  },
  {
   "cell_type": "code",
   "execution_count": null,
   "metadata": {},
   "outputs": [],
   "source": []
  },
  {
   "cell_type": "code",
   "execution_count": null,
   "metadata": {},
   "outputs": [],
   "source": []
  },
  {
   "cell_type": "code",
   "execution_count": null,
   "metadata": {},
   "outputs": [],
   "source": []
  },
  {
   "cell_type": "code",
   "execution_count": null,
   "metadata": {},
   "outputs": [],
   "source": []
  },
  {
   "cell_type": "code",
   "execution_count": null,
   "metadata": {},
   "outputs": [],
   "source": []
  },
  {
   "cell_type": "code",
   "execution_count": null,
   "metadata": {},
   "outputs": [],
   "source": []
  },
  {
   "cell_type": "code",
   "execution_count": null,
   "metadata": {},
   "outputs": [],
   "source": []
  },
  {
   "cell_type": "code",
   "execution_count": null,
   "metadata": {},
   "outputs": [],
   "source": []
  },
  {
   "cell_type": "code",
   "execution_count": null,
   "metadata": {},
   "outputs": [],
   "source": []
  },
  {
   "cell_type": "code",
   "execution_count": null,
   "metadata": {},
   "outputs": [],
   "source": []
  },
  {
   "cell_type": "code",
   "execution_count": null,
   "metadata": {},
   "outputs": [],
   "source": []
  },
  {
   "cell_type": "code",
   "execution_count": null,
   "metadata": {},
   "outputs": [],
   "source": []
  },
  {
   "cell_type": "code",
   "execution_count": null,
   "metadata": {},
   "outputs": [],
   "source": []
  },
  {
   "cell_type": "code",
   "execution_count": null,
   "metadata": {},
   "outputs": [],
   "source": []
  },
  {
   "cell_type": "code",
   "execution_count": null,
   "metadata": {},
   "outputs": [],
   "source": []
  },
  {
   "cell_type": "code",
   "execution_count": null,
   "metadata": {},
   "outputs": [],
   "source": []
  },
  {
   "cell_type": "code",
   "execution_count": null,
   "metadata": {},
   "outputs": [],
   "source": []
  },
  {
   "cell_type": "code",
   "execution_count": null,
   "metadata": {},
   "outputs": [],
   "source": []
  },
  {
   "cell_type": "code",
   "execution_count": null,
   "metadata": {},
   "outputs": [],
   "source": []
  },
  {
   "cell_type": "code",
   "execution_count": null,
   "metadata": {},
   "outputs": [],
   "source": []
  },
  {
   "cell_type": "code",
   "execution_count": null,
   "metadata": {},
   "outputs": [],
   "source": []
  },
  {
   "cell_type": "code",
   "execution_count": null,
   "metadata": {},
   "outputs": [],
   "source": []
  },
  {
   "cell_type": "code",
   "execution_count": null,
   "metadata": {},
   "outputs": [],
   "source": []
  },
  {
   "cell_type": "code",
   "execution_count": null,
   "metadata": {},
   "outputs": [],
   "source": []
  },
  {
   "cell_type": "code",
   "execution_count": null,
   "metadata": {},
   "outputs": [],
   "source": []
  },
  {
   "cell_type": "code",
   "execution_count": null,
   "metadata": {},
   "outputs": [],
   "source": []
  },
  {
   "cell_type": "code",
   "execution_count": null,
   "metadata": {},
   "outputs": [],
   "source": []
  },
  {
   "cell_type": "code",
   "execution_count": null,
   "metadata": {},
   "outputs": [],
   "source": []
  },
  {
   "cell_type": "code",
   "execution_count": null,
   "metadata": {},
   "outputs": [],
   "source": []
  },
  {
   "cell_type": "code",
   "execution_count": null,
   "metadata": {},
   "outputs": [],
   "source": []
  },
  {
   "cell_type": "code",
   "execution_count": null,
   "metadata": {},
   "outputs": [],
   "source": []
  },
  {
   "cell_type": "code",
   "execution_count": null,
   "metadata": {},
   "outputs": [],
   "source": []
  },
  {
   "cell_type": "code",
   "execution_count": null,
   "metadata": {},
   "outputs": [],
   "source": []
  },
  {
   "cell_type": "code",
   "execution_count": null,
   "metadata": {},
   "outputs": [],
   "source": [
    "df.tail()"
   ]
  }
 ],
 "metadata": {
  "file_extension": ".py",
  "kernelspec": {
   "display_name": "Python 3.7.3 64-bit ('py-env': venv)",
   "language": "python",
   "name": "python37364bitpyenvvenv97a7fb0947ed4ee08f31e6927c206f4d"
  },
  "language_info": {
   "codemirror_mode": {
    "name": "ipython",
    "version": 3
   },
   "file_extension": ".py",
   "mimetype": "text/x-python",
   "name": "python",
   "nbconvert_exporter": "python",
   "pygments_lexer": "ipython3",
   "version": "3.7.3-final"
  },
  "mimetype": "text/x-python",
  "name": "python",
  "npconvert_exporter": "python",
  "pygments_lexer": "ipython3",
  "version": 3
 },
 "nbformat": 4,
 "nbformat_minor": 2
}